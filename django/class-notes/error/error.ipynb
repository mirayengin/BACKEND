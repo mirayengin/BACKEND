{
 "cells": [
  {
   "attachments": {},
   "cell_type": "markdown",
   "metadata": {},
   "source": [
    "# sytax error 'da ---> kod hiç çalışmaz,\n",
    "# exception error'da ---> program çalışır ama hata verir.\n",
    "# tanımlanmadan kullanılan değişkenler  name error hatası verir.\n",
    "# hata kodu alacağımızı düşündüğümüz kodu --> try bloğuna yazıyoruz, hata alırsa except bloğu çalışıyor, hata olmazsa try bloğu çalışır, except çalışmadan çıktı verir.\n",
    "\n"
   ]
  },
  {
   "cell_type": "code",
   "execution_count": null,
   "metadata": {},
   "outputs": [],
   "source": [
    "try:\n",
    "  print(int(\"erhan\"))\n",
    "except ValueError:\n",
    "  print(\"Something is error\")"
   ]
  },
  {
   "attachments": {},
   "cell_type": "markdown",
   "metadata": {},
   "source": [
    "# try:\n",
    "  # Kod Blogunu çalıştır.\n",
    "except:\n",
    "  # Hata çıkarsa burayı çalıştır.\n",
    "else:\n",
    "  # Hata çıkmazsa burayı da çalıştır.\n",
    "finally:\n",
    "  # burayı her koşulda çalıştır."
   ]
  },
  {
   "attachments": {},
   "cell_type": "markdown",
   "metadata": {},
   "source": [
    "# try - except nerede işime yarar?Çalışmasını istediğiniz ama HATA VERME OLASILIĞI olan kod bloklarını \"try-except\" blokları içine yazarız. Böylece, olası hata anında program tümünden durmak zorunda kalmayacak ve bize bilgi verecektir.Örnek olarak: Database'e bağlanma verilebilir. Database sunucusu bazen cevap vermeyebilir ve biz bu olasılık gerçekleşirse programımızın durmasını istemeyiz. Connection kodlarını try-except içinde çalıştırırsak, bu sıkıntıyı aşmış olabiliriz."
   ]
  },
  {
   "cell_type": "code",
   "execution_count": null,
   "metadata": {},
   "outputs": [],
   "source": [
    "x= 10\n",
    "y= 20\n",
    "try:\n",
    "  print(X)\n",
    "except:\n",
    "  print(\"Hata oldu\")"
   ]
  },
  {
   "cell_type": "code",
   "execution_count": null,
   "metadata": {},
   "outputs": [],
   "source": [
    "num_1 = 250\n",
    "num_2 = [2,3,5,1,6,0,2,6,7]\n",
    "\n",
    "res_list= []\n",
    "\n",
    "for i in num_2:\n",
    "    try:\n",
    "        res_list.append(num_1/i)\n",
    "    except ZeroDivisionError as zero:\n",
    "        pass"
   ]
  }
 ],
 "metadata": {
  "kernelspec": {
   "display_name": "Python 3",
   "language": "python",
   "name": "python3"
  },
  "language_info": {
   "codemirror_mode": {
    "name": "ipython",
    "version": 3
   },
   "file_extension": ".py",
   "mimetype": "text/x-python",
   "name": "python",
   "nbconvert_exporter": "python",
   "pygments_lexer": "ipython3",
   "version": "3.9.13"
  },
  "orig_nbformat": 4,
  "vscode": {
   "interpreter": {
    "hash": "330291e952ef2592d61b7857e145d2070e6df96cbb58463d8ee825546f424b29"
   }
  }
 },
 "nbformat": 4,
 "nbformat_minor": 2
}
