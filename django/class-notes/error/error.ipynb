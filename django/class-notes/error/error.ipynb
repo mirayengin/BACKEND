{
 "cells": [
  {
   "attachments": {},
   "cell_type": "markdown",
   "metadata": {},
   "source": [
    "# sytax error 'da ---> kod hiç çalışmaz,\n",
    "# exception error'da ---> program çalışır ama hata verir.\n",
    "# tanımlanmadan kullanılan değişkenler  name error hatası verir.\n",
    "# hata kodu alacağımızı düşündüğümüz kodu --> try bloğuna yazıyoruz, hata alırsa except bloğu çalışıyor, hata olmazsa try bloğu çalışır, except çalışmadan çıktı verir.\n",
    "\n"
   ]
  },
  {
   "cell_type": "code",
   "execution_count": null,
   "metadata": {},
   "outputs": [],
   "source": [
    "try:\n",
    "  print(int(\"erhan\"))\n",
    "except ValueError:\n",
    "  print(\"Something is error\")"
   ]
  },
  {
   "attachments": {},
   "cell_type": "markdown",
   "metadata": {},
   "source": [
    "# try:\n",
    "  # Kod Blogunu çalıştır.\n",
    "except:\n",
    "  # Hata çıkarsa burayı çalıştır.\n",
    "else:\n",
    "  # Hata çıkmazsa burayı da çalıştır.\n",
    "finally:\n",
    "  # burayı her koşulda çalıştır.\n",
    "# try - except nerede işime yarar?Çalışmasını istediğiniz ama HATA VERME OLASILIĞI olan kod bloklarını \"try-except\" blokları içine yazarız. Böylece, olası hata anında program tümünden durmak zorunda kalmayacak ve bize bilgi verecektir.Örnek olarak: Database'e bağlanma verilebilir. Database sunucusu bazen cevap vermeyebilir ve biz bu olasılık gerçekleşirse programımızın durmasını istemeyiz. Connection kodlarını try-except içinde çalıştırırsak, bu sıkıntıyı aşmış olabiliriz."
   ]
  },
  {
   "cell_type": "code",
   "execution_count": null,
   "metadata": {},
   "outputs": [],
   "source": [
    "x= 10\n",
    "y= 20\n",
    "try:\n",
    "  print(X)\n",
    "except:\n",
    "  print(\"Hata oldu\")"
   ]
  },
  {
   "cell_type": "code",
   "execution_count": null,
   "metadata": {},
   "outputs": [],
   "source": [
    "num_1 = 250\n",
    "num_2 = [2,3,5,1,6,0,2,6,7]\n",
    "\n",
    "res_list= []\n",
    "\n",
    "for i in num_2:\n",
    "    try:\n",
    "        res_list.append(num_1/i)\n",
    "    except ZeroDivisionError as zero:\n",
    "        pass"
   ]
  },
  {
   "cell_type": "code",
   "execution_count": 3,
   "metadata": {},
   "outputs": [
    {
     "name": "stdout",
     "output_type": "stream",
     "text": [
      "I want to sing\n",
      "Like the birds sing,\n",
      "\n",
      "Not worrying about\n",
      "Who hears or\n",
      "Wh\n",
      "74\n"
     ]
    }
   ],
   "source": [
    "rumi = open(\"rumi.txt\")\n",
    "\n",
    "print(rumi.read(35))\n",
    "print(rumi.read(35))\n",
    "print(rumi.tell())\n"
   ]
  },
  {
   "attachments": {},
   "cell_type": "markdown",
   "metadata": {},
   "source": [
    "rumi.tell( ile cursor nerde onu öğreniyoruz.)"
   ]
  },
  {
   "cell_type": "code",
   "execution_count": 5,
   "metadata": {},
   "outputs": [
    {
     "name": "stdout",
     "output_type": "stream",
     "text": [
      "I want to sing\n",
      "\n",
      "Like the birds sing,\n",
      "\n",
      "Not worrying about\n",
      "\n",
      "Who hears or\n",
      "\n"
     ]
    }
   ],
   "source": [
    "rumi = open(\"rumi.txt\", \"r\")\n",
    "\n",
    "print(rumi.readline())\n",
    "print(rumi.readline())\n",
    "print(rumi.readline())\n",
    "print(rumi.readline())"
   ]
  },
  {
   "attachments": {},
   "cell_type": "markdown",
   "metadata": {},
   "source": [
    "readline ise satır satır okumamızı sağlar"
   ]
  },
  {
   "cell_type": "code",
   "execution_count": 9,
   "metadata": {},
   "outputs": [
    {
     "name": "stdout",
     "output_type": "stream",
     "text": [
      "I want to sing\n",
      "\n",
      "['Like the birds sing,\\n', 'Not worrying about\\n', 'Who hears or\\n', 'What they think.']\n"
     ]
    }
   ],
   "source": [
    "rumi = open(\"rumi.txt\", \"r\")\n",
    "\n",
    "print(rumi.readline())\n",
    "print(rumi.readlines())\n",
    "rumi.close()\n",
    "\n"
   ]
  },
  {
   "attachments": {},
   "cell_type": "markdown",
   "metadata": {},
   "source": [
    "bütün satırları okuyor.readlines bize list döndürür."
   ]
  },
  {
   "cell_type": "code",
   "execution_count": 10,
   "metadata": {},
   "outputs": [
    {
     "name": "stdout",
     "output_type": "stream",
     "text": [
      "I want to sing\n",
      "\n",
      "Like the birds sing,\n",
      "\n",
      "Not worrying about\n",
      "\n",
      "Who hears or\n",
      "\n",
      "What they think.\n"
     ]
    }
   ],
   "source": [
    "rumi = open(\"rumi.txt\", \"r\")\n",
    "\n",
    "for line in rumi:\n",
    "  print(line)\n",
    "rumi.close()"
   ]
  },
  {
   "cell_type": "code",
   "execution_count": 11,
   "metadata": {},
   "outputs": [
    {
     "name": "stdout",
     "output_type": "stream",
     "text": [
      "I want to sing\n",
      "\n",
      "['Like the birds sing,\\n', 'Not worrying about\\n', 'Who hears or\\n', 'What they think.']\n"
     ]
    }
   ],
   "source": [
    "with open(\"rumi.txt\", \"r\") as rumi:\n",
    "\n",
    "  print(rumi.readline())\n",
    "  print(rumi.readlines())"
   ]
  },
  {
   "attachments": {},
   "cell_type": "markdown",
   "metadata": {},
   "source": [
    "with open ile yaparsak close dememize gerek yok"
   ]
  },
  {
   "cell_type": "code",
   "execution_count": 12,
   "metadata": {},
   "outputs": [
    {
     "name": "stdout",
     "output_type": "stream",
     "text": [
      "This is the first line\n"
     ]
    }
   ],
   "source": [
    "with open(\"dumi.txt\", \"w\") as dumi:\n",
    "  dumi.write(\"This is the first line\")\n",
    "\n",
    "with open(\"dumi.txt\", \"r\") as dumi:\n",
    "  print(dumi.read())\n",
    "\n"
   ]
  },
  {
   "attachments": {},
   "cell_type": "markdown",
   "metadata": {},
   "source": [
    "write ile yazma işlemi yapıyoruz."
   ]
  },
  {
   "cell_type": "code",
   "execution_count": 13,
   "metadata": {},
   "outputs": [
    {
     "name": "stdout",
     "output_type": "stream",
     "text": [
      "This is the first line\n"
     ]
    }
   ],
   "source": [
    "with open(\"dumi.txt\", \"w\") as dumi:\n",
    "  dumi.write(\"This is the first line\")\n",
    "\n",
    "with open(\"dumi.txt\", \"r\") as dumi:\n",
    "  print(dumi.read())\n",
    "\n",
    "with open(\"dumi.txt\", \"w\") as dumi:\n",
    "  dumi.write(\"This is the second line\")"
   ]
  },
  {
   "attachments": {},
   "cell_type": "markdown",
   "metadata": {},
   "source": [
    "böyle yazdırırsak en sondakini yazar yani üzerine yazar\n",
    "tek seferde yazdırırsak istediğimizi yazzdırırrız ama kapattıktan sonra yazdırırsak kapattıp açtıktan sonrakini görürüz sadece"
   ]
  },
  {
   "cell_type": "code",
   "execution_count": 17,
   "metadata": {},
   "outputs": [
    {
     "name": "stdout",
     "output_type": "stream",
     "text": [
      "banana\n",
      "apple\n",
      "orange\n",
      "\n"
     ]
    }
   ],
   "source": [
    "fruits = [\"banana\",\"apple\", \"orange\"]\n",
    "\n",
    "with open(\"fruits.txt\", \"w\") as fru:\n",
    "  for i in fruits:\n",
    "    fru.write(i+\"\\n\")\n",
    "  \n",
    "with open(\"fruits.txt\", \"r\") as fru:\n",
    "  print(fru.read())\n"
   ]
  },
  {
   "attachments": {},
   "cell_type": "markdown",
   "metadata": {},
   "source": [
    "kaptmadan istediğimizi yazabiliyoruz"
   ]
  },
  {
   "cell_type": "code",
   "execution_count": 18,
   "metadata": {},
   "outputs": [
    {
     "name": "stdout",
     "output_type": "stream",
     "text": [
      "banana\n",
      "apple\n",
      "orange\n",
      "melon\n",
      "\n"
     ]
    }
   ],
   "source": [
    "with open(\"fruits.txt\", \"a\") as fru:\n",
    "  fru.write(\"melon\" + \"\\n\")\n",
    "\n",
    "\n",
    "with open(\"fruits.txt\", \"r\") as fru:\n",
    "  print(fru.read())"
   ]
  },
  {
   "attachments": {},
   "cell_type": "markdown",
   "metadata": {},
   "source": [
    "burdaki a ise append i temsil ediyor bunla kapatsak bile dosyayı ekleme yapabiliyoruz dosyaya overwrite olmadan"
   ]
  }
 ],
 "metadata": {
  "kernelspec": {
   "display_name": "Python 3",
   "language": "python",
   "name": "python3"
  },
  "language_info": {
   "codemirror_mode": {
    "name": "ipython",
    "version": 3
   },
   "file_extension": ".py",
   "mimetype": "text/x-python",
   "name": "python",
   "nbconvert_exporter": "python",
   "pygments_lexer": "ipython3",
   "version": "3.9.13"
  },
  "orig_nbformat": 4,
  "vscode": {
   "interpreter": {
    "hash": "330291e952ef2592d61b7857e145d2070e6df96cbb58463d8ee825546f424b29"
   }
  }
 },
 "nbformat": 4,
 "nbformat_minor": 2
}
