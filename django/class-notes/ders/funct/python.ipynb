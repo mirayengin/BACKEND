{
 "cells": [
  {
   "cell_type": "code",
   "execution_count": 1,
   "metadata": {},
   "outputs": [
    {
     "name": "stdout",
     "output_type": "stream",
     "text": [
      "2\n"
     ]
    }
   ],
   "source": [
    "a = round(1.55)\n",
    "print(a)"
   ]
  },
  {
   "cell_type": "code",
   "execution_count": 5,
   "metadata": {},
   "outputs": [
    {
     "data": {
      "text/plain": [
       "20"
      ]
     },
     "execution_count": 5,
     "metadata": {},
     "output_type": "execute_result"
    }
   ],
   "source": [
    "def do(a):\n",
    "  return abs(a) # Mutlak değeri alır.\n",
    "\n",
    "\n",
    "do(-20)"
   ]
  },
  {
   "cell_type": "code",
   "execution_count": null,
   "metadata": {},
   "outputs": [],
   "source": [
    "\n",
    "\n",
    "def slicer(*arg):\n",
    "  even = []\n",
    "  odd = []\n",
    "  for i in range(len(arg)):\n",
    "    if arg[i] % 2 == 0 :\n",
    "      even.append(i)\n",
    "    else:\n",
    "      odd.append(i)"
   ]
  }
 ],
 "metadata": {
  "kernelspec": {
   "display_name": "Python 3",
   "language": "python",
   "name": "python3"
  },
  "language_info": {
   "codemirror_mode": {
    "name": "ipython",
    "version": 3
   },
   "file_extension": ".py",
   "mimetype": "text/x-python",
   "name": "python",
   "nbconvert_exporter": "python",
   "pygments_lexer": "ipython3",
   "version": "3.9.13"
  },
  "orig_nbformat": 4,
  "vscode": {
   "interpreter": {
    "hash": "330291e952ef2592d61b7857e145d2070e6df96cbb58463d8ee825546f424b29"
   }
  }
 },
 "nbformat": 4,
 "nbformat_minor": 2
}
