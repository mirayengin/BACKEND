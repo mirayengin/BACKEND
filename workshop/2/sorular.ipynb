{
 "cells": [
  {
   "attachments": {},
   "cell_type": "markdown",
   "metadata": {},
   "source": [
    "Bir kullanıcının girdiği bir dizede kaç sesli harf ve sabitin bulunduğunu sayan bir Python kodu yazın."
   ]
  },
  {
   "cell_type": "code",
   "execution_count": 2,
   "metadata": {},
   "outputs": [
    {
     "name": "stdout",
     "output_type": "stream",
     "text": [
      "Bu iterator de 6 sesli harf, 8 sessiz harf vardır\n"
     ]
    }
   ],
   "source": [
    "sesli = [\"a\",\"e\",\"i\",\"ı\",\"o\",\"ö\",\"u\",\"ü\"]\n",
    "\n",
    "count1 = 0\n",
    "count2 = 0\n",
    "\n",
    "iterator = input(\"istediğinizi giriniz: \")\n",
    "\n",
    "for i in iterator:\n",
    "  if(i.lower() in sesli):\n",
    "    count1 += 1\n",
    "  elif i != \" \":\n",
    "    count2 += 1\n",
    "\n",
    "print(f\"Bu iterator de {count1} sesli harf, {count2} sessiz harf vardır\")"
   ]
  },
  {
   "cell_type": "code",
   "execution_count": 10,
   "metadata": {},
   "outputs": [
    {
     "name": "stdout",
     "output_type": "stream",
     "text": [
      "<class 'dict'>\n",
      "Apple\n",
      "Orange\n",
      "Melon\n",
      "Banana\n",
      "Pear\n",
      "{'Apple': 30, 'Orange': 70, 'Melon': 40, 'Banana': 100, 'Pear': 80}\n"
     ]
    }
   ],
   "source": [
    "dict1 = {'Apple': 15, 'Orange': 35, 'Melon': 20, 'Banana': 50, 'Pear': 40} \n",
    "dict2 = {}\n",
    "print(type(dict2))\n",
    "\n",
    "for i in dict1.items() :\n",
    "  print(i[0])\n",
    "  dict2[i[0]] = i[1] * 2\n",
    "print(dict2)\n"
   ]
  },
  {
   "cell_type": "code",
   "execution_count": null,
   "metadata": {},
   "outputs": [],
   "source": [
    "#? Kullanıcıdan bir kelime, bir ayırıcı ve tekrar sayısı girmesini isteyin. Kelimeyi tekrarlama süreleriyle görüntüleyen ve her kelimeyi ayırıcı karakterle ayıran bir Python kodu yazın."
   ]
  },
  {
   "cell_type": "code",
   "execution_count": null,
   "metadata": {},
   "outputs": [],
   "source": [
    "cars = [{'make':'Ford', 'model':'F150 XLT','year':2018, 'color':'Gray'}, \\\n",
    "        {'make':'Porsche', 'model':'Cayman GT4', 'year':2016, 'color':'Gold'}, \\\n",
    "        {'make':'Audi', 'model': 'S7 Prestige', 'year':2017, 'color':'Blue'},\\\n",
    "        {'make':'Mercedes', 'model': 'S550', 'year':2019, 'color':'Black'}]\n",
    "\n",
    "  "
   ]
  }
 ],
 "metadata": {
  "kernelspec": {
   "display_name": "Python 3",
   "language": "python",
   "name": "python3"
  },
  "language_info": {
   "codemirror_mode": {
    "name": "ipython",
    "version": 3
   },
   "file_extension": ".py",
   "mimetype": "text/x-python",
   "name": "python",
   "nbconvert_exporter": "python",
   "pygments_lexer": "ipython3",
   "version": "3.9.13"
  },
  "orig_nbformat": 4,
  "vscode": {
   "interpreter": {
    "hash": "330291e952ef2592d61b7857e145d2070e6df96cbb58463d8ee825546f424b29"
   }
  }
 },
 "nbformat": 4,
 "nbformat_minor": 2
}
