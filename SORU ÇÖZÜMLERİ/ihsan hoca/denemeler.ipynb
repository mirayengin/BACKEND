{
  "nbformat": 4,
  "nbformat_minor": 0,
  "metadata": {
    "colab": {
      "provenance": []
    },
    "kernelspec": {
      "name": "python3",
      "display_name": "Python 3"
    },
    "language_info": {
      "name": "python"
    }
  },
  "cells": [
    {
      "cell_type": "code",
      "execution_count": null,
      "metadata": {
        "colab": {
          "base_uri": "https://localhost:8080/"
        },
        "id": "l9TK8kWZIXAL",
        "outputId": "be82c639-c34b-4462-9e2b-d0603bb4129d"
      },
      "outputs": [
        {
          "output_type": "stream",
          "name": "stdout",
          "text": [
            "bir cümle giriniz : ali veli veli can ali\n",
            "{'ali': 2, 'veli': 2, 'can': 1}\n",
            "en çok geçen kelime :  veli\n"
          ]
        }
      ],
      "source": [
        "cumle = input(\"bir cümle giriniz : \")\n",
        "liste = cumle.split()\n",
        "sonuc = {}\n",
        "enbuyuk = 0\n",
        "for kelime in liste:\n",
        "  if kelime in sonuc:\n",
        "    sonuc[kelime] += 1\n",
        "  else:\n",
        "    sonuc[kelime] = 1\n",
        "  # en fazla tekrar eden kelimeyi buluyoruz\n",
        "  if sonuc[kelime] > enbuyuk:\n",
        "    enbuyuk = sonuc[kelime]\n",
        "    encok = kelime\n",
        "  # count methodu ile liste yada string içersinde aradığımız değişkenin kaç defa geçtiğini buluyoruz. \n",
        "  # print(kelime , liste.count(kelime))\n",
        "print(sonuc)\n",
        "print(\"en çok geçen kelime : \", encok)"
      ]
    },
    {
      "cell_type": "code",
      "source": [
        "sayi = int(input(\"bir sayı giriniz : \"))\n",
        "# döngü ile yapılan yöntem\n",
        "# sum = 0\n",
        "# for i in range(1, sayi + 1):\n",
        "#   sum += i\n",
        "# print(sum)\n",
        "\n",
        "# liste methodları ile yapılan yöntem\n",
        "liste = [eklenecek_degisken for eklenecek_degisken in range(1, sayi+1)]\n",
        "# for i in range(1, sayi + 1):\n",
        "#   liste.append(i)\n",
        "#print(sum(liste))\n"
      ],
      "metadata": {
        "colab": {
          "base_uri": "https://localhost:8080/"
        },
        "id": "sqkMMrfxOrZK",
        "outputId": "69dbb2aa-93a5-4d16-b6d9-8fbf304d684b"
      },
      "execution_count": 25,
      "outputs": [
        {
          "name": "stdout",
          "output_type": "stream",
          "text": [
            "bir sayı giriniz : 4\n"
          ]
        }
      ]
    },
    {
      "cell_type": "code",
      "source": [
        "sifre = input(\"bir kelime giriniz : \")\n",
        "#keys = {\"ş\", \"ğ\", \"Ğ\", \"İ\", \"ı\", \"ç\", \"Ç\", \"ü\", \"Ü\" }\n",
        "keys = {\"?\", \"=\", \"(\", \"*\", \"-\", \"}\"}\n",
        "if(set(sifre) & keys):\n",
        "  #print(\"şifre içerisinde Türkçe karakter kullandınız.\")\n",
        "  print(\"parola geçerli\")\n",
        "else:\n",
        "  #print(\"şifre geçerli\")\n",
        "  print(\"lütfen şifrenizde özel karakter kullanınız\")"
      ],
      "metadata": {
        "colab": {
          "base_uri": "https://localhost:8080/"
        },
        "id": "0zLkRDWpQ_v_",
        "outputId": "2b24b88b-184f-4579-b8f0-27f50c2b769f"
      },
      "execution_count": 33,
      "outputs": [
        {
          "output_type": "stream",
          "name": "stdout",
          "text": [
            "bir kelime giriniz : merhaba?\n",
            "parola geçerli\n"
          ]
        }
      ]
    },
    {
      "cell_type": "code",
      "source": [
        "urunler = {}"
      ],
      "metadata": {
        "id": "StP0AESbaCxE"
      },
      "execution_count": 38,
      "outputs": []
    },
    {
      "cell_type": "code",
      "source": [
        "def kalan_kar(alinan_miktar, satilan_miktar, alis_fiyat, satis_fiyat, urun, urunler):\n",
        "  fire = (alinan_miktar- satilan_miktar) * 100 / alinan_miktar\n",
        "  print(\"fire miktarı : %{}\".format(fire))\n",
        "  urunler[urun] = (satis_fiyat * satilan_miktar) - (alis_fiyat * alinan_miktar)\n",
        "#  return  (satis_fiyat * satilan_miktar) - (alis_fiyat * alinan_miktar)\n",
        "\n",
        "urun = input(\"ürün adı giriniz : \")\n",
        "alinan_miktar = int(input(\"alınan ürün miktarını giriniz :\"))\n",
        "satilan_miktar = int(input(\"satılan ürün miktarını giriniz :\"))\n",
        "alis_fiyat = int(input(\"alış fiyatı giriniz : \"))\n",
        "satis_fiyat = int(input(\"satış fiyatı giriniz :\"))\n",
        "kalan_kar(alinan_miktar, satilan_miktar, alis_fiyat, satis_fiyat, urun, urunler)\n",
        "print(urunler)\n"
      ],
      "metadata": {
        "colab": {
          "base_uri": "https://localhost:8080/"
        },
        "id": "r0QPHla8UX4j",
        "outputId": "95405a2e-2bc6-4cfd-b8fb-8c217f26de03"
      },
      "execution_count": 42,
      "outputs": [
        {
          "output_type": "stream",
          "name": "stdout",
          "text": [
            "ürün adı giriniz : armut\n",
            "alınan ürün miktarını giriniz :70\n",
            "satılan ürün miktarını giriniz :50\n",
            "alış fiyatı giriniz : 10\n",
            "satış fiyatı giriniz :20\n",
            "fire miktarı : %28.571428571428573\n",
            "{'elma': 250, 'armut': 300}\n"
          ]
        }
      ]
    },
    {
      "cell_type": "code",
      "source": [
        "print(urunler.values())"
      ],
      "metadata": {
        "colab": {
          "base_uri": "https://localhost:8080/",
          "height": 165
        },
        "id": "PE3ZgPuTbcUz",
        "outputId": "edc5b179-8cc3-4fa3-e2c1-08fb9817c713"
      },
      "execution_count": 46,
      "outputs": [
        {
          "output_type": "error",
          "ename": "TypeError",
          "evalue": "ignored",
          "traceback": [
            "\u001b[0;31m---------------------------------------------------------------------------\u001b[0m",
            "\u001b[0;31mTypeError\u001b[0m                                 Traceback (most recent call last)",
            "\u001b[0;32m<ipython-input-46-651669857a6f>\u001b[0m in \u001b[0;36m<module>\u001b[0;34m\u001b[0m\n\u001b[0;32m----> 1\u001b[0;31m \u001b[0mprint\u001b[0m\u001b[0;34m(\u001b[0m\u001b[0msum\u001b[0m\u001b[0;34m(\u001b[0m\u001b[0murunler\u001b[0m\u001b[0;34m.\u001b[0m\u001b[0mvalues\u001b[0m\u001b[0;34m(\u001b[0m\u001b[0;34m)\u001b[0m\u001b[0;34m)\u001b[0m\u001b[0;34m)\u001b[0m\u001b[0;34m\u001b[0m\u001b[0;34m\u001b[0m\u001b[0m\n\u001b[0m",
            "\u001b[0;31mTypeError\u001b[0m: 'int' object is not callable"
          ]
        }
      ]
    }
  ]
}