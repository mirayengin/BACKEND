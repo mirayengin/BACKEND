{
 "cells": [
  {
   "cell_type": "code",
   "execution_count": 4,
   "metadata": {},
   "outputs": [
    {
     "name": "stdout",
     "output_type": "stream",
     "text": [
      "the most words : deli\n",
      "{'ali': 1, 'veli': 2, 'deli': 2}\n"
     ]
    }
   ],
   "source": [
    "cümle = input(\"bir cümle yazınız:\")\n",
    "liste = cümle.split(\" \")\n",
    "again = {}\n",
    "bigNum = 0\n",
    "\n",
    "for words in liste:\n",
    "  if words in again:\n",
    "    again[words] += 1\n",
    "  else:\n",
    "    again[words] = 1\n",
    "\n",
    "# En çok tekrar eden kelime\n",
    "if again[words] > bigNum:\n",
    "  bigNum = again[words]\n",
    "  themost = words\n",
    "\n",
    "print(\"the most words :\", themost)\n",
    "print(again)"
   ]
  },
  {
   "cell_type": "code",
   "execution_count": 9,
   "metadata": {},
   "outputs": [
    {
     "name": "stdout",
     "output_type": "stream",
     "text": [
      "[1, 2, 3, 4, 5, 6, 7, 8, 9, 10]\n"
     ]
    },
    {
     "ename": "TypeError",
     "evalue": "'int' object is not callable",
     "output_type": "error",
     "traceback": [
      "\u001b[1;31m---------------------------------------------------------------------------\u001b[0m",
      "\u001b[1;31mTypeError\u001b[0m                                 Traceback (most recent call last)",
      "Cell \u001b[1;32mIn[9], line 16\u001b[0m\n\u001b[0;32m     14\u001b[0m liste \u001b[39m=\u001b[39m [i \u001b[39mfor\u001b[39;00m i \u001b[39min\u001b[39;00m \u001b[39mrange\u001b[39m(\u001b[39m1\u001b[39m, number \u001b[39m+\u001b[39m \u001b[39m1\u001b[39m)]\n\u001b[0;32m     15\u001b[0m \u001b[39mprint\u001b[39m(liste)\n\u001b[1;32m---> 16\u001b[0m \u001b[39mprint\u001b[39m(\u001b[39msum\u001b[39;49m(liste))\n",
      "\u001b[1;31mTypeError\u001b[0m: 'int' object is not callable"
     ]
    }
   ],
   "source": [
    "number = int(input(\"bir sayı giriniz:\" ))\n",
    "# sum = 0\n",
    "# for i in range(1, number + 1):\n",
    "#   sum += i\n",
    "\n",
    "# print(sum)\n",
    "\n",
    "# liste ve liste metoduyla\n",
    "\n",
    "# liste= []\n",
    "\n",
    "# for i in range(1, number +1):\n",
    "#   liste.append(i)\n",
    "liste = [i for i in range(1, number + 1)]\n",
    "print(liste)\n",
    "print(sum(liste))"
   ]
  },
  {
   "cell_type": "code",
   "execution_count": 10,
   "metadata": {},
   "outputs": [
    {
     "name": "stdout",
     "output_type": "stream",
     "text": [
      "{'l', 'a', 'n', 's'}\n"
     ]
    }
   ],
   "source": [
    "not1 = input(\"bir kelime\")\n",
    "set1 = set(not1)\n",
    "print(set1)"
   ]
  },
  {
   "cell_type": "code",
   "execution_count": 11,
   "metadata": {},
   "outputs": [
    {
     "name": "stdout",
     "output_type": "stream",
     "text": [
      "Yasaklı giriş yaptınız\n"
     ]
    }
   ],
   "source": [
    "password = input(\"bir şifre gir :\")\n",
    "keys = {\"ş\", \"ğ\", \"Ğ\", \"İ\", \"ı\", \"ç\", \"Ç\", \"ü\", \"Ü\", \"?\", \")\"}\n",
    "\n",
    "if (set(password) & keys ):\n",
    "  print(\"Yasaklı giriş yaptınız\")\n",
    "else:\n",
    "  print(\"Şifre kabul edildi.\")"
   ]
  }
 ],
 "metadata": {
  "kernelspec": {
   "display_name": "Python 3",
   "language": "python",
   "name": "python3"
  },
  "language_info": {
   "codemirror_mode": {
    "name": "ipython",
    "version": 3
   },
   "file_extension": ".py",
   "mimetype": "text/x-python",
   "name": "python",
   "nbconvert_exporter": "python",
   "pygments_lexer": "ipython3",
   "version": "3.9.13"
  },
  "orig_nbformat": 4,
  "vscode": {
   "interpreter": {
    "hash": "330291e952ef2592d61b7857e145d2070e6df96cbb58463d8ee825546f424b29"
   }
  }
 },
 "nbformat": 4,
 "nbformat_minor": 2
}
