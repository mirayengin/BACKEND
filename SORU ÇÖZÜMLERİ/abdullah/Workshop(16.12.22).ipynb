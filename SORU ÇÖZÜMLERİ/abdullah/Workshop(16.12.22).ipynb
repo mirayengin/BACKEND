{
 "cells": [
  {
   "attachments": {},
   "cell_type": "markdown",
   "metadata": {
    "id": "16BRL6inm-3z"
   },
   "source": [
    "Q 1: Let's write a program that will add the two given lists and create a new list.\n",
    "\n",
    "![2022-06-24 (6).png](data:image/png;base64,iVBORw0KGgoAAAANSUhEUgAAAa4AAACICAYAAAC/dw8FAAAAAXNSR0IArs4c6QAAAARnQU1BAACxjwv8YQUAAAAJcEhZcwAADsMAAA7DAcdvqGQAAAAhdEVYdENyZWF0aW9uIFRpbWUAMjAyMjowNjoyNCAwMToxMDowMf/N2xIAABCeSURBVHhe7d09c+pGF8Dxc58PkI4qt4mpnI4mJA3+AnS4SKprqriK05jOKUxH0rjzpJHLzFzo+AKXKjRRF1e4iatLl6TIZDLjZ3clwUqIdwmz0v+XUa4tQCsWrMO+sOfNiyIAADjif+G/AAA4gcAFAHAKgQsA4BQCFwDAKQQuAIBTCFwAAKcQuAAATiFwAQCcQuACADiFwAUAcAqBCwDgFAIXAMApeweu8Xi8dvv999/De+ds2peLkxM5ibauH96wpfA4F/1puGMHftecw66nsI7ftZ7nRV92OdONj5HzcwGAbewduL755pu12+3tbXjvHOlgU+9IdfAkT096G0jba+0evI5c7SZ4nuNeI9yzvSyOsYlp/2Ln4AoASXunNdGfxL/44gv58ssvwz1xg8FAPv30U/nll1/CPfnQrYeWDOTpphbuUXRLoaXO4elGrL2FooNCfdiU8cO5VMJ928riGKvkfXwA5ZLJGJcOWt9//33qpoNW/nwZeiLtZiI81ZrSFk+GYaPLfPLXLbCw68tssRaZL91ov9rSuwrj91m4b6K7crHBpx9/If2pfRz9e3hzxD5Hvb1Gy3Htc1GS3bMnXfUMo5tUfat99c5IZNSR+uw+y5/vXt2zAEoh98kZP/zwg9ny15DTt+GPq+juQ9MKm3cnzi/INbkx+8eS3ns2lf5FS7y2atlZ92v0xvJwHrYlKufyEB072JNiJJ36nZyOg666QVv9fm13pamgplooQRlqG/ekETvPA1n7XNR5xrpn9TZv3VbOH8w+0xXZ6Ml4dp8HiaoLALaVe+D6/PPPzabpsa5vv/1W/vzzT/P762hbXYdv5VRdUyeTTT/lP8vjqCG9y9mlWc6aDRk9Poe/b649mF+8a00VFkaP6ugRFUDtLs/KmahitjjPw/KiJu0+ajcmqM0+AADAErkHLpvuOvzjjz/MhI3sg9dI0uNHoiXWOFXhKlKR84dtLpY60KnW0X10ofblvjNSh9ykqbed2Iy/k7ro3rbjo1uo4SSY8Fzp6gOQt9wD1/Pzs9zd3ZnN8zz56quv5PHxMePgVRPdaFn45O8PxZOqVLP+ED+7UAfdhlm3EvTYUMvTLcOoa21Z1+UxiLpX1TbuiXTqTJsHkKuDtLj0xEV7i/ZlyXS3xcaBfOm2PGn0LsNuwQxMP8hwZAcUtdldehl5flTNK6tlOO1fH2mLK6GiPiSEP9oqVbV3NJQPqxpjTM4AsKFMpsN/9913phtwHd3C0i0tXaSeHv/JJ5+Et2TETH/3wl/0ONKT2HFl7bTsxONn9GSM8EBm2n3yLnriQXhMU0ZKlJlP4NCzCc3skPm5mXLtafvBfWbFqPIH0pK70/gxFs/UHr9bZ/0x1j6X8Ltz9j1iE1Us8XprSG+cmKAR1v2yxwNA5KCBS0/O0F2HP/30U/ZB6xAWAowWBIAJF1wAOIjcuwr1ck/Rkk96WvzPP//sZtBSppNJ+JNlOhG9t5r5QBoAIE3uLa6vv/7a/Jv3yhmHktZVmOySBADkJ5PAVa/Xly751O/3D7LkEwCgHDIJXOvotQwJXACALOwduH799dfwp+X0mFa0egYAAPvYO3ABAHBIB13yCQCAfRUscOnvVFlr/JV87aEorUiwpaQSAQAHFbLFpaenL1+OSacmyfdCHl8gd56fKkvxMtSWEqSjtCImLUq4DwBcV66uQpP08FrMirx58btBJuZwLcNB25NWDmnro7T7wZbMKwYAxVWiwKVaWtePcqWTGKatBJsVnVfKaunVLlVrZ90Cs3vbNq8YALirRIFL597adAFax5hV6xvSPGPZKQDFV66uwlfg33dk1GhK9jElGqtTm0mfTzp8AOVA4MqTHu/yRNpXS9Ko7CXI3hyMcY3l9C59ggYAFA2BKy9Wfqn8F+BVQezKpIDOZQYjABwTAlce9OzF10iKaGVNBoCiInCliL64u1saeV+6Oitwe7A6aJmp+SdykslUeVWmDpTNsxy6JAHguJQqcM2+tGsSao2kUw9+Tw4NVc6a5gu7o8791l1vfjdMh++1grKibbEQaQaFyP3W/XuJFUKCtMxkYAZQCgVbZDdIo68v4vuNK+kZe3XpSE/GD3lMrAjolp1qnElvnPOMQN26qw+lmXc5AHAAdBWm8e+lM5Kcu958uQ8KyWGqPAAUVyEDl9da0j23VvjdqJZn1jvMq+stGENridceyFPOLTpTD3rMLdwHAK4jHxcAwCl0FQIAnELgAgA4hcAFAHAKgQsA4JSCBS5S99tI3Q+giArZ4lqdul/LMX1/tJRTbMsnff/8eYRbIlCTuh9AEZWyq3Dav5aOupTndzFvy2CWVl9vOSSwNAGyLsPmeF5O/svQA8CrK2Hg0itWiPR+vJI8M/jnTSeolEOvPg8AR6B0gcssgtu+cnzNPl+GHqn6AZRTuQLXtC93XlsGuXepedKyxrgynyMynchEtRerz935+BaTLwCURIkC11T617p77TL78SZb5Vwe7PGtQdusnZj9BEcVHIfNWTnjnkinntckEAA4HuUJXHrFd+nJj4fuI6xdSq8hMplk3RyKtxwr51dqjydDIheAgitN4PKHnknaWJ91remEj2EyyUyyEC/zLI9ZL81eqUpVJrIYCxtySu5+AAVXmsBVu7G678w2UC2UhvTG6udEapH9UvfHBRmR23KVbOntlbq/Js22CrpW6uRp/048cnsBKIFyTc7Y0D6p+1WkClt0wdaSgQqSKd/j2it1vw7EY+lNWrNy6sNmrtmaAeBYlDhw1eTmaUkq+yioNE5l65632k28Zbd0BmNFzoJCduzeq8j5g1UOQQtASdDiSkPqfgA4WoUMXKTuD5C6H0ARkbofAOAUugoBAE4hcAEAnELgAgA4hcAFAHAKgQsA4BQCFwDAKQQuAIBTCFwAAKcQuAAATiFwAQCcQuACADiFwAUAcAqBCwDgFAIXAMApBC4AgFMIXAAApxC4AABOIXABAJxC4AIAOIXABQBwCoELAOAUAhcAwCkELgCAUwhcAACnELgAAE4pTuDyu3JychLbLvrT8MYDmvblwjqHrh/uP2aJc36VesvUVPoXa56Heb90ZeHlCevC/TrY06bvY+oLr6BgLa62DJ6e5Elv455Ip374wFE5lwdzDgN1Nsv5XXVBOIqo5ku33hHpjYN6U9vDeSW8TTEXpgvhunRAx1DnG76P96fef6sCI5CiuF2FlTNpNkQmE664K00nMpGGNM+sYFVm4QU7FryxHPWFV1DcwOXfS2e0eEE2LZ1ZF8jyrqL0+6R8OlzW5bREVH7LU794rSXlBKb9C3Pbzp9Gk92n2xwoqgfVGhup/zr1+XFi3UKJ+kp2GZnnoMu1z2WHJxR/3VLqJHYedfXah/stsWOYF8AWvLbR7YtdX/p23Qqy77fYKopes/i24ftjbZ0v7wKd1XMoeR5pj9nPuvoKJF+3+f2ix7ck+FOw7rfD+wMl81IUv92+fPbZZ9b27uX9x/C20G+3av+79y/R7o/v36n73b78Fv6u7vFyqx57O9+RkHK7Kdc+RmT1scy5LC/ICM5v1fmsosq3H/jx/cs761jRsRe3xHMxj1usSyNxzOg5v7PuPC8nOu66Ok6h6jj+VBKv28J5fHx5/y5+HsnXfvnrtvjYQHDe9vsq/ZhWXS0tY40Vda7LXDy3+P5l7+u0x6237vVaVl/hedj1k2qH9wNKr5hjXOOeNMI9c74MvYb0fjyXqA1WOb9Sj/BkmPiA5yV3vJLK+YMZc7qphTu2UpMb+4GJrtPo2EFdqXoZB+NbT0836pGbmX4Yyqg9sM6vJpe9hoyGH1TbwKZfl+i4b+V02y7c2k2sDipnTXXGE4kOsXgeSYuv/a7agweJesVqzbbI6FGeg19lOpmoO1zNbld3UM98fp5ZeKsqb/QYlKhbM4stnal8GI6k0bu0Xsdlr8sBjIby4eCFouiK2VVYOZer9kiG9l+MGcuJd79E3RRz6mKvB6OtLrzsu1gOJ95Nk959to/nR3XAWHfnidTTCmmcqnAVqcj5w7ZjIvFuqaArbc6cxyrmtc9fpVpV9XE36z6c9u/U+6sq1X2jpcWUoQLkVAfjifoEYILRVO+SqinoWXR1BD/PmcdZQfYQ9IejYI5U9Npt3qUOrFLYMa7apf6LuZ//oVTUBSTWsphv8U/qOniFt73WzMQM6DGOlmfNsnwai/rQnSn96V81QWb1ONse9m/ZzOlxHfUBwy4ntUV9LOYfjoLJmpu3YDfy9jR47v5QJs0f5aqqWzQ6WDXk1Hw6SG/RmtZg7APEYcxa9mobtD1pXfQP3+pD4RR8VqEnd7MWU02aqhXWud7iD8cEO1vioqAH0xcG+TdjLvrecOUn0GiAfZfAaVoh1oVq2r/ercVl6iDReg2ZLjvV4so3sActiEZwVVZUILuOt7hMl92sLnWgS7QuzXvBeg56osiOr9sq/tCThvW1gqenebfiVlbUublNtZzuhxMz8ajWrKr76fak2m/KqshZsyEj+0Obep9eqwppX2X5gWJ75j2/IPibOpbueTgiHOtyX9pAeHKwXDED6maQPdoWB/nt2xcGnc0xrceax8yPsWzSw+LgdTCoPb9P4tyV6Fi7DVxHkwnCTR0kdWB/xUSAmdhzThxjTZ1tNkC/RqL829/0c1v+uuryF55r7DwXX7dkGbNtVvkpkwjMY6xjpNSF3nZ6/ZbWefi+mdVp+Don6jj5Pt/2HNa+j9fW1+I5pL3HjWS97VRhKJM3+n9hDAOws6ClN2yOY+N3utVc71StySkA9lXcrkLgoIIuzaRkly2A/dHiArKixzwTMx6l0ZNxppNVABC4AABOoasQAOAUAhcAwCkELgCAUwhcAACnFCxwJda0K3l6hHhqC5JBAiiGQra42oNwyZ3EcuHJHEVmyzS4BfmSFsrIvBxtfZCOrwAPAMVQvq7C5KKwy3Nh7CBY+Tx2/HBx2/lae1nQQaslk9m6eKqMScvplewBYFOMceXNZGJuy9VOq60u4Q/FE/uYKmBeteMLqwJAQRG4cjWV/p2nWnnN7NepSy4jZNJdZJu0EACOUfkCVyzxYc6J7aYfZDhqSO8y47Clg9SoI/fWyfv3iaWGAKCgShW47KR2ejOJ7XIMXiaY2Kncs1I5l4dBW8Xg+eSM4SkTMACUQ6m7CnWW5Ny616Z9ufNyaG1FajexIHxTfVQtriiZIAAUV7nHuJ71xT4fprXVaMrZgQKJzr6by1gaAByZEgcuX7o6fXtKV170fa/dp5f7YuLIqlTpOgWG7ua76Mu+DT6/eyItry2DTKf2A8BxKlXg0hf4+cSMloj+onLKxb5y1jTjRbtOL/e7LfEaPVnZS1g5k2ZQSGySxWbiX3Ruif5uGhl2AZRDqQJX7WY+JmTGhZZd6aOgsmPmWlPO2uSBFTkLCpHtv5uc+KIzLS0AJVLuMa5lzJeGVUhpnq0JPvvw5T4o5GDjYABQBIUMXLNp4luvDxh2wbU8s97hQ+bz2APBGFpLPL38VI5p3WdrMybTyQOAw0jdDwBwCl2FAACnELgAAE4hcAEAnELgAgA4hcAFAHAKgQsA4BQCFwDAKQQuAIBTCFwAAKcQuAAATiFwAQCcQuACADjlje/7L3///bf89ddf8s8//8i///4r//33n7nRXn933Vq8b968CX8CACAvIv8HTWdoIDIH9T8AAAAASUVORK5CYII=)"
   ]
  },
  {
   "cell_type": "code",
   "execution_count": 13,
   "metadata": {},
   "outputs": [
    {
     "name": "stdout",
     "output_type": "stream",
     "text": [
      "(1, 4)\n",
      "5\n",
      "(2, 5)\n",
      "7\n",
      "(3, 6)\n",
      "9\n",
      "[(1, 4), (2, 5), (3, 6)]\n",
      "[5, 7, 9]\n"
     ]
    }
   ],
   "source": [
    "one = [1,2,3]\n",
    "two = [4,5,6]\n",
    "\n",
    "sum_list = list(zip(one,two))\n",
    "result_list = []\n",
    "\n",
    "for i in sum_list:\n",
    "  print(i)\n",
    "  print(i[0] + i[1])\n",
    "  result_list.append(i[0] + i[1])\n",
    "print(list(sum_list))\n",
    "print(result_list)"
   ]
  },
  {
   "cell_type": "code",
   "execution_count": 7,
   "metadata": {},
   "outputs": [],
   "source": [
    "\n"
   ]
  },
  {
   "attachments": {},
   "cell_type": "markdown",
   "metadata": {},
   "source": [
    "Q 2: Let's print the words that are less than 5 letters.\n",
    "input :  words = [\"apple\", \"swim\", \"clock\", \"me\", \"kiwi\", \"banana\"]\n",
    "output : swim me kiwi"
   ]
  },
  {
   "cell_type": "code",
   "execution_count": 14,
   "metadata": {},
   "outputs": [
    {
     "name": "stdout",
     "output_type": "stream",
     "text": [
      "['swim', 'me', 'kiwi']\n"
     ]
    }
   ],
   "source": [
    "words = [\"apple\", \"swim\", \"clock\", \"me\", \"kiwi\", \"banana\"]\n",
    "result = [i for i in words if len(i) < 5]\n",
    "print(result)\n",
    "\n",
    "    "
   ]
  },
  {
   "attachments": {},
   "cell_type": "markdown",
   "metadata": {},
   "source": [
    "Q 3: Kullanıcının ismini talep eden eğer veri tabanındaki isimle eşleşiyorsa \"Hello Robert! Password: Aa123.\",  eşleşmiyorsa \"Hello Robert see you later\" yazdıran, kullanıcıya 3 yanlış veri girme hakkı veren fonksiyonu yazalım."
   ]
  },
  {
   "cell_type": "code",
   "execution_count": 22,
   "metadata": {},
   "outputs": [
    {
     "name": "stdout",
     "output_type": "stream",
     "text": [
      "<class 'str'>\n",
      "Hello erhan! Password: 1.\n",
      "Hello erhan see you later\n"
     ]
    }
   ],
   "source": [
    "user = input(\"Enter your name: \")\n",
    "password = input(\"Enter password :\")\n",
    "\n",
    "user_data = {user:user,password:password}\n",
    "print(type(user_data[user]))\n",
    "\n",
    "alert = input(\"Hesaba giriş için yes veya no yazınız : \")\n",
    "\n",
    "if(alert.lower() == \"yes\"):\n",
    "  hak = 3\n",
    "  while hak != 0:\n",
    "    login_user = input(\"Kullanıcı adınızı giriniz : \")\n",
    "    login_password = input(\"Kullanıcı sifrenizi giriniz : \")\n",
    "    if (user_data[user] == login_user) & (user_data[password] == login_password) :\n",
    "      print(f\"Hello {login_user}! Password: {login_password}.\")\n",
    "      break\n",
    "    else:\n",
    "      hak -= 1\n",
    "  print(f\"Hello {login_user} see you later\")\n",
    "  \n",
    "\n",
    "else:\n",
    "  print(\"Sonra görüşürüz\")\n",
    "\n",
    "  \n",
    "\n",
    "\n",
    "\n",
    "\n",
    "\n",
    "\n"
   ]
  },
  {
   "attachments": {},
   "cell_type": "markdown",
   "metadata": {},
   "source": [
    "Q4 : input'a girilen index numarasıyla listenin elemanlarına ulaşan kodu yazalım.\n",
    "İndex numarası yanlış girildiğinde \"there is no such an index. Try again!\" hatasını,\n",
    "giriş alfabetik bir karakter olduğunda \"you should enter integer. Try again!\" hatasını ekrana yazdırsın.\n",
    "Ayrıca Her hata error.log isimli bir dosyaya tarih ve saatiyle birlikte kaydedilsin"
   ]
  },
  {
   "cell_type": "code",
   "execution_count": 34,
   "metadata": {},
   "outputs": [
    {
     "name": "stdout",
     "output_type": "stream",
     "text": [
      "You should enter integer. Try again!\n"
     ]
    }
   ],
   "source": [
    "import datetime\n",
    "words1 = [\"apple\", \"swim\", \"clock\", \"me\", \"kiwi\", \"banana\"]\n",
    "\n",
    "index_num = input(\"Bir sayı giriniz: \")\n",
    "if index_num.isdigit():\n",
    "  if int(index_num) <= len(words1) - 1 :\n",
    "    print( words1[int(index_num)])\n",
    "  else:\n",
    "    print(\"There is no such an index. Try again!\")\n",
    "    with open(\"error.log\", \"a\") as error:\n",
    "      error.write(f\"{datetime.datetime.now()} tarihide index hatası \" + \"\\n\")\n",
    "else:\n",
    "  print(\"You should enter integer. Try again!\")\n",
    "  with open(\"error.log\", \"a\") as error:\n",
    "    error.write(f\"{datetime.datetime.now()} tarihide type hatası\" + \"\\n\")"
   ]
  },
  {
   "attachments": {},
   "cell_type": "markdown",
   "metadata": {},
   "source": [
    "Q-5: Write a program that accepts a string and calculates the number of digits, space and letters.\n",
    "example:\n",
    "input: Python 3.2\n",
    "output: string has 7 letters, 2 numbers and 1 space character."
   ]
  },
  {
   "cell_type": "code",
   "execution_count": null,
   "metadata": {},
   "outputs": [],
   "source": []
  },
  {
   "cell_type": "code",
   "execution_count": null,
   "metadata": {},
   "outputs": [],
   "source": []
  },
  {
   "cell_type": "code",
   "execution_count": null,
   "metadata": {},
   "outputs": [],
   "source": []
  },
  {
   "cell_type": "code",
   "execution_count": null,
   "metadata": {},
   "outputs": [],
   "source": [
    " \n"
   ]
  },
  {
   "cell_type": "code",
   "execution_count": null,
   "metadata": {},
   "outputs": [],
   "source": []
  }
 ],
 "metadata": {
  "kernelspec": {
   "display_name": "Python 3",
   "language": "python",
   "name": "python3"
  },
  "language_info": {
   "codemirror_mode": {
    "name": "ipython",
    "version": 3
   },
   "file_extension": ".py",
   "mimetype": "text/x-python",
   "name": "python",
   "nbconvert_exporter": "python",
   "pygments_lexer": "ipython3",
   "version": "3.9.13"
  },
  "orig_nbformat": 4,
  "vscode": {
   "interpreter": {
    "hash": "330291e952ef2592d61b7857e145d2070e6df96cbb58463d8ee825546f424b29"
   }
  }
 },
 "nbformat": 4,
 "nbformat_minor": 2
}
